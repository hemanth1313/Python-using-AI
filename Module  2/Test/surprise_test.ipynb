{
 "cells": [
  {
   "cell_type": "code",
   "execution_count": 1,
   "metadata": {},
   "outputs": [],
   "source": [
    "#python program to find the power of a number in a list using recursion\n",
    "def power(list,exp):\n",
    "\n",
    "    \n",
    "        if (exp == 0):\n",
    "            return 1\n",
    "        elif (exp == 1):\n",
    "            return i\n",
    "        else:\n",
    "            return (i*(power(i,exp-1)))\n",
    "list = [1,2,3,4,5]\n",
    "exp = int(input (\"Entre the value\"))\n",
    "for i in list:\n",
    "    result = power(i,exp)\n",
    "    print(\" the power of   to the exponential value is \", result) "
   ]
  },
  {
   "cell_type": "code",
   "execution_count": 5,
   "metadata": {},
   "outputs": [
    {
     "name": "stdout",
     "output_type": "stream",
     "text": [
      "Hello Hemanth Welcome to Keonics Python Classes are from  Monday to Wednesday  only :( Thank you\n"
     ]
    }
   ],
   "source": [
    "# How to print multiple arguments in python and call a function to display the arguments\n",
    "def abc(a,b,c,d):\n",
    "    print(\"Hello\",a,\"Welcome to\",b,\"Python Classes are from \",c,\"to\" ,d,\"only :( Thank you\")\n",
    "a=\"Hemanth\"\n",
    "b= \"Keonics\"\n",
    "c= \"Monday\" \n",
    "d= \"Wednesday\"   \n",
    "abc(a,b,c,d)\n"
   ]
  },
  {
   "cell_type": "code",
   "execution_count": 12,
   "metadata": {},
   "outputs": [
    {
     "name": "stdout",
     "output_type": "stream",
     "text": [
      "The elemants of the list are : [1, 5, 36, 9, 54, 3, 41, 86, 45, 6, 7, 964]\n",
      "The sorted list is  None\n",
      "[1, 3, 5, 6, 7, 9, 36, 41, 45, 54, 86, 964]\n"
     ]
    }
   ],
   "source": [
    "# prg to sort unsorted numbers using list in asscending order\n",
    "list = [ 1,5,36,9,54,3,41,86,45,6,7,964]\n",
    "print(\"The elemants of the list are :\",list)\n",
    "print(\"The sorted list is \",list.sort())\n",
    "print(list)\n"
   ]
  },
  {
   "cell_type": "code",
   "execution_count": 11,
   "metadata": {},
   "outputs": [
    {
     "name": "stdout",
     "output_type": "stream",
     "text": [
      "[0, 1, 1, 2, 3, 5, 8, 13, 21, 34, 55, 89, 144, 233, 377]\n"
     ]
    }
   ],
   "source": [
    "# Fibonacci numbers using lambda function \n",
    "n = 15\n",
    "fibonacci= [ ]\n",
    "def lambda_func():\n",
    "    return lambda a,b: a + b\n",
    "for i in range (0,n):\n",
    "    if (i == 0):\n",
    "        f = i\n",
    "        fibonacci.append(f)\n",
    "    elif (i == 1):\n",
    "        f = 1\n",
    "        fibonacci.append(f)\n",
    "    elif ( i >= 2):\n",
    "        a= fibonacci[i-2]\n",
    "        b = fibonacci[i-1]\n",
    "        f= lambda_func()\n",
    "        d=f(a,b)\n",
    "        fibonacci.append(d)\n",
    "print(fibonacci)"
   ]
  },
  {
   "cell_type": "code",
   "execution_count": null,
   "metadata": {},
   "outputs": [],
   "source": []
  }
 ],
 "metadata": {
  "kernelspec": {
   "display_name": "Python 3.9.12 ('base')",
   "language": "python",
   "name": "python3"
  },
  "language_info": {
   "name": "python",
   "version": "3.9.12"
  },
  "orig_nbformat": 4,
  "vscode": {
   "interpreter": {
    "hash": "dcf83fb7aecc4ec1d7d3dca26f762fbb0763345c4b34e2c927d4f400edb719a5"
   }
  }
 },
 "nbformat": 4,
 "nbformat_minor": 2
}
