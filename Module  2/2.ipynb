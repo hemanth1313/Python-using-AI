{
 "cells": [
  {
   "cell_type": "code",
   "execution_count": 1,
   "metadata": {},
   "outputs": [
    {
     "name": "stdout",
     "output_type": "stream",
     "text": [
      "File error in line 2 <_io.TextIOWrapper name='myfile.txt' mode='w' encoding='cp1252'>\n",
      "Output of the read function is\n",
      "HEllo \n",
      "This is Delhi \n",
      "This is Paris \n",
      "This is London\n",
      "\n",
      " Output of Readline functio  is\n",
      "llo \n",
      "\n",
      "\n",
      "Out of read (9) function is \n",
      "HEllo \n",
      "This is Delhi \n",
      "This is Paris \n",
      "This is London\n",
      "\n",
      "output of the Readline(9) function is\n",
      "HEllo \n",
      "\n",
      "Output of the readlines fnction\n",
      "['HEllo \\n', 'This is Delhi \\n', 'This is Paris \\n', 'This is London']\n",
      "\n"
     ]
    }
   ],
   "source": [
    "#Program to show various ways to read and write in a file\n",
    "\n",
    "file1 = open(\"myfile.txt\",\"w\")\n",
    "print(\"File error in line 2\",file1)\n",
    "L= [\"This is Delhi \\n\",\"This is Paris \\n\",\"This is London\"]\n",
    "\n",
    "# \\n is placed to indicate EOL (End of the line)\n",
    "file1.write(\"HEllo \\n\")\n",
    "file1.writelines(L)\n",
    "\n",
    "file1.close()  #to change file access modes\n",
    "file1 = open(\"myfile.txt\",\"r+\")\n",
    "print(\"Output of the read function is\")\n",
    "print(file1.read())\n",
    "print()\n",
    "\n",
    "# seek (n) takes the file handel to the nth\n",
    "# bite from the beginning\n",
    "file1.seek(2)\n",
    "\n",
    "print(\" Output of Readline functio  is\")\n",
    "print(file1.readline())\n",
    "print()\n",
    "\n",
    "file1.seek(0)\n",
    "# to shiw diiference between read and readline\n",
    "print(\"Out of read (9) function is \")\n",
    "print(file1.read(100))\n",
    "print()\n",
    "file1.seek(0)\n",
    "print(\"output of the Readline(9) function is\")\n",
    "print(file1.readline(100))\n",
    "file1.seek(0)\n",
    "\n",
    "# readlines function \n",
    "print(\"Output of the readlines fnction\")\n",
    "print(file1.readlines())\n",
    "print()\n",
    "file1.close()"
   ]
  },
  {
   "cell_type": "code",
   "execution_count": null,
   "metadata": {},
   "outputs": [],
   "source": []
  }
 ],
 "metadata": {
  "kernelspec": {
   "display_name": "Python 3.9.12 ('base')",
   "language": "python",
   "name": "python3"
  },
  "language_info": {
   "codemirror_mode": {
    "name": "ipython",
    "version": 3
   },
   "file_extension": ".py",
   "mimetype": "text/x-python",
   "name": "python",
   "nbconvert_exporter": "python",
   "pygments_lexer": "ipython3",
   "version": "3.9.12"
  },
  "orig_nbformat": 4,
  "vscode": {
   "interpreter": {
    "hash": "dcf83fb7aecc4ec1d7d3dca26f762fbb0763345c4b34e2c927d4f400edb719a5"
   }
  }
 },
 "nbformat": 4,
 "nbformat_minor": 2
}
