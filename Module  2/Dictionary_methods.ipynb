{
 "cells": [
  {
   "cell_type": "code",
   "execution_count": 2,
   "metadata": {},
   "outputs": [
    {
     "name": "stdout",
     "output_type": "stream",
     "text": [
      "Dict2 =  {1: 'python', 2: ' Java', 3: 'Ruby', 4: 'Scala '}\n",
      "{}\n",
      "python\n",
      "dict_items([(1, 'python'), (2, ' Java'), (3, 'Ruby'), (4, 'Scala ')])\n"
     ]
    }
   ],
   "source": [
    "dict1= {1:\"python\",2: \" Java\", 3: \"Ruby\",4: \"Scala \"}\n",
    "#copy () Method\n",
    "dict2= dict1.copy()\n",
    "print(\"Dict2 = \",dict2)\n",
    "\n",
    "# Clear () Method\n",
    "dict1.clear()\n",
    "print(dict1)\n",
    "\n",
    "#get() method\n",
    "print(dict2.get(1))\n",
    "\n",
    "#Item() Method \n",
    "print(dict2.items())\n"
   ]
  },
  {
   "cell_type": "code",
   "execution_count": 4,
   "metadata": {},
   "outputs": [
    {
     "name": "stdout",
     "output_type": "stream",
     "text": [
      "Capitals\n",
      "A\n",
      "b\n",
      "C\n",
      "d\n"
     ]
    }
   ],
   "source": [
    "statesAndcapitals= {\n",
    "    'A':'AA',\n",
    "    'b': 'BB',\n",
    "    'C':'cc',\n",
    "    'd':'DD'\n",
    "}\n",
    "print(\"Capitals\")\n",
    "\n",
    "for state in statesAndcapitals:\n",
    "    print(state     )"
   ]
  },
  {
   "cell_type": "code",
   "execution_count": null,
   "metadata": {},
   "outputs": [],
   "source": []
  }
 ],
 "metadata": {
  "kernelspec": {
   "display_name": "Python 3.9.12 ('base')",
   "language": "python",
   "name": "python3"
  },
  "language_info": {
   "codemirror_mode": {
    "name": "ipython",
    "version": 3
   },
   "file_extension": ".py",
   "mimetype": "text/x-python",
   "name": "python",
   "nbconvert_exporter": "python",
   "pygments_lexer": "ipython3",
   "version": "3.9.12"
  },
  "orig_nbformat": 4,
  "vscode": {
   "interpreter": {
    "hash": "dcf83fb7aecc4ec1d7d3dca26f762fbb0763345c4b34e2c927d4f400edb719a5"
   }
  }
 },
 "nbformat": 4,
 "nbformat_minor": 2
}
