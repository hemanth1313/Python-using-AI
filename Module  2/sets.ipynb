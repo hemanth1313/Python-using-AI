{
 "cells": [
  {
   "cell_type": "code",
   "execution_count": 20,
   "metadata": {},
   "outputs": [
    {
     "ename": "NameError",
     "evalue": "name 'list1' is not defined",
     "output_type": "error",
     "traceback": [
      "\u001b[1;31m---------------------------------------------------------------------------\u001b[0m",
      "\u001b[1;31mNameError\u001b[0m                                 Traceback (most recent call last)",
      "\u001b[1;32md:\\PYTHON\\Module  2\\sets.ipynb Cell 1\u001b[0m in \u001b[0;36m<cell line: 2>\u001b[1;34m()\u001b[0m\n\u001b[0;32m      <a href='vscode-notebook-cell:/d%3A/PYTHON/Module%20%202/sets.ipynb#W0sZmlsZQ%3D%3D?line=0'>1</a>\u001b[0m \u001b[39mimport\u001b[39;00m \u001b[39msys\u001b[39;00m\n\u001b[1;32m----> <a href='vscode-notebook-cell:/d%3A/PYTHON/Module%20%202/sets.ipynb#W0sZmlsZQ%3D%3D?line=1'>2</a>\u001b[0m list1\u001b[39m-\u001b[39m\u001b[39mlist\u001b[39m[\u001b[39m1\u001b[39m]\n\u001b[0;32m      <a href='vscode-notebook-cell:/d%3A/PYTHON/Module%20%202/sets.ipynb#W0sZmlsZQ%3D%3D?line=2'>3</a>\u001b[0m tuple1\u001b[39m-\u001b[39m\u001b[39mtuple\u001b[39m(\u001b[39m2\u001b[39m)\n\u001b[0;32m      <a href='vscode-notebook-cell:/d%3A/PYTHON/Module%20%202/sets.ipynb#W0sZmlsZQ%3D%3D?line=3'>4</a>\u001b[0m \u001b[39m#list1-[1,2,3,4,5]\u001b[39;00m\n\u001b[0;32m      <a href='vscode-notebook-cell:/d%3A/PYTHON/Module%20%202/sets.ipynb#W0sZmlsZQ%3D%3D?line=4'>5</a>\u001b[0m \u001b[39m#tuple1 - (1,2,3,4,5)\u001b[39;00m\n",
      "\u001b[1;31mNameError\u001b[0m: name 'list1' is not defined"
     ]
    }
   ],
   "source": [
    "import sys\n",
    "list1-list[1]\n",
    "tuple1-tuple(2)\n",
    "#list1-[1,2,3,4,5]\n",
    "#tuple1 - (1,2,3,4,5)\n",
    "print(sys.getsizeof(list1),'Bytes')\n",
    "print(sys.getsizeof(tuple),'Bytes')\n"
   ]
  },
  {
   "cell_type": "code",
   "execution_count": 1,
   "metadata": {},
   "outputs": [
    {
     "name": "stdout",
     "output_type": "stream",
     "text": [
      "Union using union() function\n",
      "{'jay', 'Archii', 'Karan', 'Arjun', 'Idrish'}\n",
      "\n",
      " Union using '|' operator\n",
      "{'Deepanshu', 'jay', 'Akbar', 'Archii', 'Idrish'}\n"
     ]
    }
   ],
   "source": [
    "# Union\n",
    "\n",
    "people= {\"jay\",\"Idrish\",\"Archii\"}\n",
    "vampires ={\"Karan\",\"Arjun\"}\n",
    "dracula= {\"Deepanshu\",\"Akbar\"}\n",
    "#Union using union()\n",
    "#function\n",
    "population= people.union(vampires)\n",
    "\n",
    "print(\"Union using union() function\")\n",
    "print(population)\n",
    "\n",
    "#Union using \"|\"\n",
    "#operator\n",
    "population = people|dracula\n",
    "\n",
    "print(\"\\n Union using '|' operator\" )\n",
    "print(population)"
   ]
  },
  {
   "cell_type": "code",
   "execution_count": 14,
   "metadata": {},
   "outputs": [
    {
     "name": "stdout",
     "output_type": "stream",
     "text": [
      "Set 1 =  {0, 1, 2, 3, 4}\n",
      "Set 2 = {3, 4, 5, 6, 7, 8}\n",
      "Intersection using intersection() function\n",
      "{3, 4}\n",
      "\n",
      " Intersection using '&' operator\n",
      "{3, 4}\n"
     ]
    }
   ],
   "source": [
    "# Intersection\n",
    "\n",
    "set1=set()\n",
    "set2=set()\n",
    "for i in range(5):\n",
    "    set1.add(i)\n",
    "for i in range (3,9):\n",
    "    set2.add(i)\n",
    "\n",
    "#Intersection() function\n",
    "#printing set 1 and set 2 which contains \n",
    "print(\"Set 1 = \",set1)\n",
    "print(\"Set 2 =\",set2)\n",
    "\n",
    "set3= set1.intersection(set2)\n",
    "\n",
    "print(\"Intersection using intersection() function\")\n",
    "print(set3)\n",
    "# Intersection using\n",
    "# \"&\" operator\n",
    "set3= set1 & set2\n",
    "print(\"\\n Intersection using '&' operator\")\n",
    "print(set3)"
   ]
  },
  {
   "cell_type": "code",
   "execution_count": 19,
   "metadata": {},
   "outputs": [
    {
     "name": "stdout",
     "output_type": "stream",
     "text": [
      "Set 1 =  {0, 1, 2, 3, 4}\n",
      "Set 2 = {3, 4, 5, 6, 7, 8}\n",
      "Difference of two sets using difference() function \n",
      "{0, 1, 2}\n",
      "\n",
      " Difference of two sets using '-' operator\n",
      "{0, 1, 2}\n",
      "{8, 5, 6, 7}\n"
     ]
    }
   ],
   "source": [
    "# Difference\n",
    "\n",
    "set1=set()\n",
    "set2=set()\n",
    "for i in range(5):\n",
    "    set1.add(i)\n",
    "for i in range (3,9):\n",
    "    set2.add(i)\n",
    "\n",
    "#Difference of two sets () function\n",
    "#printing set 1 and set 2 which contains \n",
    "print(\"Set 1 = \",set1)\n",
    "print(\"Set 2 =\",set2)\n",
    "\n",
    "set3= set1.difference(set2)\n",
    "\n",
    "print(\"Difference of two sets using difference() function \")\n",
    "print(set3)\n",
    "# Difference of two sets\n",
    "# using '-' operator\n",
    "set3= set1 - set2\n",
    "print(\"\\n Difference of two sets using '-' operator\")\n",
    "print(set3)\n",
    "\n",
    "set3= set2- set1\n",
    "print(set3)"
   ]
  },
  {
   "cell_type": "code",
   "execution_count": 23,
   "metadata": {},
   "outputs": [
    {
     "name": "stdout",
     "output_type": "stream",
     "text": [
      "Initial set\n",
      "{1, 2, 3, 4, 5, 6, 7, 8, 9}\n",
      "\n",
      " Set after using clear () function \n",
      "set :  set()\n"
     ]
    }
   ],
   "source": [
    "# Clearing Sets \n",
    "\n",
    "set1 ={ 1,2,3,4,5,6,7,8,9}\n",
    "print(\"Initial set\")\n",
    "print(set1)\n",
    "\n",
    "#This method will remove \n",
    "#All the elements of the set\n",
    "set1.clear()\n",
    "\n",
    "print(\"\\n Set after using clear () function \")\n",
    "print(\"set : \",set1)"
   ]
  },
  {
   "cell_type": "code",
   "execution_count": 31,
   "metadata": {},
   "outputs": [
    {
     "name": "stdout",
     "output_type": "stream",
     "text": [
      "Set 1 =  {1, 2, 3, 4, 5, 6}\n",
      "Set 2 = {3, 4, 5, 6, 7, 8}\n",
      "No\n",
      "yes\n",
      "No\n",
      "No\n"
     ]
    }
   ],
   "source": [
    "set11={1,2,5,6,3,4}\n",
    "set22={4,5,3,6,8,7}\n",
    "\n",
    "#Difference of two sets () function\n",
    "#printing set 1 and set 2 which contains \n",
    "print(\"Set 1 = \",set11)\n",
    "print(\"Set 2 =\",set22)\n",
    "\n",
    "#Equilent\n",
    "if set11==set22:\n",
    "    print(\"yes\")\n",
    "else:\n",
    "    print(\"No\")    \n",
    "\n",
    "#Not Equalient\n",
    "if set11!=set22:\n",
    "    print(\"yes\")\n",
    "else:\n",
    "    print(\"No\")      \n",
    "\n",
    "# Subset\n",
    "if set11<=set22:\n",
    "    print(\"yes\")\n",
    "else:\n",
    "    print(\"No\")  \n",
    "\n",
    "# proper subset \n",
    "if set11<set22:\n",
    "    print(\"yes\")\n",
    "else:\n",
    "    print(\"No\")  \n",
    "\n",
    "\n",
    "#    "
   ]
  },
  {
   "cell_type": "code",
   "execution_count": null,
   "metadata": {},
   "outputs": [],
   "source": []
  },
  {
   "cell_type": "code",
   "execution_count": null,
   "metadata": {},
   "outputs": [],
   "source": []
  }
 ],
 "metadata": {
  "kernelspec": {
   "display_name": "Python 3.9.12 ('base')",
   "language": "python",
   "name": "python3"
  },
  "language_info": {
   "codemirror_mode": {
    "name": "ipython",
    "version": 3
   },
   "file_extension": ".py",
   "mimetype": "text/x-python",
   "name": "python",
   "nbconvert_exporter": "python",
   "pygments_lexer": "ipython3",
   "version": "3.9.12"
  },
  "orig_nbformat": 4,
  "vscode": {
   "interpreter": {
    "hash": "dcf83fb7aecc4ec1d7d3dca26f762fbb0763345c4b34e2c927d4f400edb719a5"
   }
  }
 },
 "nbformat": 4,
 "nbformat_minor": 2
}
