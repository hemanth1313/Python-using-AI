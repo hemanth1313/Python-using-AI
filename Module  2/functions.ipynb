{
 "cells": [
  {
   "cell_type": "code",
   "execution_count": 6,
   "metadata": {},
   "outputs": [
    {
     "name": "stdout",
     "output_type": "stream",
     "text": [
      "0.9999999999999999\n"
     ]
    }
   ],
   "source": [
    "import math\n",
    "x= math.tan(math.radians(45))\n",
    "print(x)\n"
   ]
  },
  {
   "cell_type": "code",
   "execution_count": 7,
   "metadata": {},
   "outputs": [
    {
     "name": "stdout",
     "output_type": "stream",
     "text": [
      "1.0\n"
     ]
    }
   ],
   "source": [
    "from math import sin,cos,tan,radians\n",
    "# we can * to operate all function\n",
    "# Ex: from math import * : no need to write sepcific operations\n",
    "# if we dont use speiific function or * we can write it as\n",
    "#  import math\n",
    "# x= math.tan(math.radians(45))\n",
    "# print(x)\n",
    "\n",
    "x = cos(radians(0))\n",
    "print(x)"
   ]
  },
  {
   "cell_type": "code",
   "execution_count": 11,
   "metadata": {},
   "outputs": [
    {
     "name": "stdout",
     "output_type": "stream",
     "text": [
      "Global Scope\n",
      "Enclosing Scope\n",
      "local Scope Enclosing Scope Global Scope\n"
     ]
    }
   ],
   "source": [
    "x = \"Global Scope\"\n",
    "print(x)\n",
    "def outer_func():\n",
    "    y= \"Enclosing Scope\"\n",
    "    print(y)\n",
    "    def inner_func():\n",
    "        z= \"local Scope\"\n",
    "        print(z,y,x)\n",
    "        # inside function wont go out but outside function can go out\n",
    "    inner_func()\n",
    "outer_func()        "
   ]
  },
  {
   "cell_type": "code",
   "execution_count": 18,
   "metadata": {},
   "outputs": [
    {
     "name": "stdout",
     "output_type": "stream",
     "text": [
      " Takes in number n,n returns the square of n\n"
     ]
    }
   ],
   "source": [
    "def square(n):\n",
    "    ''' Takes in number n,n returns the square of n'''\n",
    "    return n**2\n",
    "print(square.__doc__)    "
   ]
  },
  {
   "cell_type": "code",
   "execution_count": null,
   "metadata": {},
   "outputs": [],
   "source": []
  }
 ],
 "metadata": {
  "kernelspec": {
   "display_name": "Python 3.9.12 ('base')",
   "language": "python",
   "name": "python3"
  },
  "language_info": {
   "codemirror_mode": {
    "name": "ipython",
    "version": 3
   },
   "file_extension": ".py",
   "mimetype": "text/x-python",
   "name": "python",
   "nbconvert_exporter": "python",
   "pygments_lexer": "ipython3",
   "version": "3.9.12"
  },
  "orig_nbformat": 4,
  "vscode": {
   "interpreter": {
    "hash": "dcf83fb7aecc4ec1d7d3dca26f762fbb0763345c4b34e2c927d4f400edb719a5"
   }
  }
 },
 "nbformat": 4,
 "nbformat_minor": 2
}
