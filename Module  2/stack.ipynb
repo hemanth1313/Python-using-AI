{
 "cells": [
  {
   "cell_type": "code",
   "execution_count": 12,
   "metadata": {},
   "outputs": [
    {
     "name": "stdout",
     "output_type": "stream",
     "text": [
      "The stack elements are a\n",
      "\n",
      " Elements popped from stack\n",
      "c\n",
      "b\n",
      "\n",
      " Stack after elements are poped :\n",
      "['a']\n"
     ]
    }
   ],
   "source": [
    "stack= []\n",
    "stack.append(\"a\")\n",
    "stack.append(\"b\")\n",
    "stack.append(\"c\")\n",
    "print(\"The stack elements are\",stack[-3])\n",
    "print(\"\\n Elements popped from stack\")\n",
    "print(stack.pop())\n",
    "print(stack.pop())\n",
    "#print(stack.pop())\n",
    "print(\"\\n Stack after elements are poped :\")\n",
    "print(stack)"
   ]
  },
  {
   "cell_type": "code",
   "execution_count": 25,
   "metadata": {},
   "outputs": [
    {
     "name": "stdout",
     "output_type": "stream",
     "text": [
      "pushed item:1\n",
      "pushed item:2\n",
      "pushed item:3\n",
      "pushed item:4\n",
      "popped item:4\n",
      "stack after popping an element:['1', '2', '3']\n"
     ]
    }
   ],
   "source": [
    "def create_stack():\n",
    "        stack = []\n",
    "        return stack\n",
    "def check_empty(stack):\n",
    "    return len(stack)==0\n",
    "def push(stack,item):\n",
    "    stack.append(item)\n",
    "    print(\"pushed item:\"+item)\n",
    "def pop(stack):\n",
    "    if(check_empty(stack)):\n",
    "        return \"stack is empty\" \n",
    "    return stack.pop()\n",
    "stack = create_stack()\n",
    "push (stack,str(1))\n",
    "push (stack,str(2))\n",
    "push (stack,str(3))\n",
    "push (stack,str(4))\n",
    "print(\"popped item:\"+pop(stack))\n",
    "print(\"stack after popping an element:\"+str(stack))\n"
   ]
  },
  {
   "cell_type": "code",
   "execution_count": null,
   "metadata": {},
   "outputs": [],
   "source": [
    "stack= []\n",
    "def empty():\n",
    "    print(\"Empty elements\")\n",
    "def push_data(n):\n",
    "    stack.append(n)\n",
    "def        "
   ]
  }
 ],
 "metadata": {
  "kernelspec": {
   "display_name": "Python 3.9.12 ('base')",
   "language": "python",
   "name": "python3"
  },
  "language_info": {
   "codemirror_mode": {
    "name": "ipython",
    "version": 3
   },
   "file_extension": ".py",
   "mimetype": "text/x-python",
   "name": "python",
   "nbconvert_exporter": "python",
   "pygments_lexer": "ipython3",
   "version": "3.9.12"
  },
  "orig_nbformat": 4,
  "vscode": {
   "interpreter": {
    "hash": "dcf83fb7aecc4ec1d7d3dca26f762fbb0763345c4b34e2c927d4f400edb719a5"
   }
  }
 },
 "nbformat": 4,
 "nbformat_minor": 2
}
