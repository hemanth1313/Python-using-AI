{
 "cells": [
  {
   "cell_type": "code",
   "execution_count": 2,
   "metadata": {},
   "outputs": [
    {
     "name": "stdout",
     "output_type": "stream",
     "text": [
      "Sum of the numbers in the list [10, 20, 30, 40, 50] is 150\n"
     ]
    }
   ],
   "source": [
    "def fun(list1):\n",
    "    result=0\n",
    "    for index in range(len(list1)):\n",
    "        # where index is the initail number and range is from start to end of len of the list\n",
    "        result = result + list1[index]\n",
    "        #where result will be stored by one by one \n",
    "        #result = 10 = \n",
    "    print(\"Sum of the numbers in the list\",list1,\"is\",result)\n",
    "\n",
    "list1=[10,20,30,40,50]\n",
    "fun(list1)"
   ]
  },
  {
   "cell_type": "code",
   "execution_count": 6,
   "metadata": {},
   "outputs": [
    {
     "name": "stdout",
     "output_type": "stream",
     "text": [
      "[(10, 'a'), (20, 'b'), (30, 'c')]\n"
     ]
    }
   ],
   "source": [
    "def merge_fun(list1,list2):\n",
    "    merged_list= zip(list1,list2)\n",
    "    #print(dict(merged_list))\n",
    "    print(list(merged_list))\n",
    "list1=[10,20,30]\n",
    "list2=['a','b','c']\n",
    "merge_fun(list1,list2)"
   ]
  }
 ],
 "metadata": {
  "kernelspec": {
   "display_name": "Python 3.9.12 ('base')",
   "language": "python",
   "name": "python3"
  },
  "language_info": {
   "codemirror_mode": {
    "name": "ipython",
    "version": 3
   },
   "file_extension": ".py",
   "mimetype": "text/x-python",
   "name": "python",
   "nbconvert_exporter": "python",
   "pygments_lexer": "ipython3",
   "version": "3.9.12"
  },
  "orig_nbformat": 4,
  "vscode": {
   "interpreter": {
    "hash": "dcf83fb7aecc4ec1d7d3dca26f762fbb0763345c4b34e2c927d4f400edb719a5"
   }
  }
 },
 "nbformat": 4,
 "nbformat_minor": 2
}
