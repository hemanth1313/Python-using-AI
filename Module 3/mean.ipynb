{
 "cells": [
  {
   "cell_type": "markdown",
   "metadata": {},
   "source": []
  },
  {
   "cell_type": "code",
   "execution_count": 3,
   "metadata": {},
   "outputs": [
    {
     "name": "stdout",
     "output_type": "stream",
     "text": [
      "The mean of the list value is 39\n",
      "3.25\n"
     ]
    }
   ],
   "source": [
    "import statistics\n",
    "values=[1,2,5,3,6,1,2,3,1,4,5,6]\n",
    "sum1=0\n",
    "print(\"The mean of the list value is\",end =' ')\n",
    "for i in values:\n",
    "    sum1 = sum1 + i\n",
    "print(sum1)\n",
    "print(statistics.mean(values))"
   ]
  },
  {
   "cell_type": "code",
   "execution_count": 6,
   "metadata": {},
   "outputs": [
    {
     "name": "stdout",
     "output_type": "stream",
     "text": [
      "44.75\n"
     ]
    }
   ],
   "source": [
    "import statistics\n",
    "values=[19,50.5,44,45.5]\n",
    "print(statistics.median(values))"
   ]
  },
  {
   "cell_type": "code",
   "execution_count": 8,
   "metadata": {},
   "outputs": [
    {
     "name": "stdout",
     "output_type": "stream",
     "text": [
      "427.49767777777777\n"
     ]
    }
   ],
   "source": [
    "import statistics\n",
    "values=[19,50.5,44,45.5,48,47,22,79,10.54]\n",
    "print(statistics.variance(values))"
   ]
  },
  {
   "cell_type": "code",
   "execution_count": null,
   "metadata": {},
   "outputs": [],
   "source": []
  }
 ],
 "metadata": {
  "kernelspec": {
   "display_name": "Python 3.9.12 ('base')",
   "language": "python",
   "name": "python3"
  },
  "language_info": {
   "codemirror_mode": {
    "name": "ipython",
    "version": 3
   },
   "file_extension": ".py",
   "mimetype": "text/x-python",
   "name": "python",
   "nbconvert_exporter": "python",
   "pygments_lexer": "ipython3",
   "version": "3.9.12"
  },
  "orig_nbformat": 4,
  "vscode": {
   "interpreter": {
    "hash": "dcf83fb7aecc4ec1d7d3dca26f762fbb0763345c4b34e2c927d4f400edb719a5"
   }
  }
 },
 "nbformat": 4,
 "nbformat_minor": 2
}
