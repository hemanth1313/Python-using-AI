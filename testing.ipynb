{
 "cells": [
  {
   "cell_type": "code",
   "execution_count": 12,
   "metadata": {},
   "outputs": [
    {
     "name": "stdout",
     "output_type": "stream",
     "text": [
      "[15, 16, 45, 56]\n",
      "[15, 16, 45, 56, 70]\n"
     ]
    }
   ],
   "source": [
    "list1=[15,16]\n",
    "list2=[45,56]\n",
    "list3=list1+list2\n",
    "print(list3)\n",
    "list3.append(70)\n",
    "print(list3)\n"
   ]
  },
  {
   "cell_type": "code",
   "execution_count": 13,
   "metadata": {},
   "outputs": [
    {
     "name": "stdout",
     "output_type": "stream",
     "text": [
      "None\n",
      "[16, 45, 56, 70]\n"
     ]
    }
   ],
   "source": [
    "print(list3.remove(15))\n",
    "print(list3)\n",
    "#removes the element mentioned"
   ]
  },
  {
   "cell_type": "code",
   "execution_count": 14,
   "metadata": {},
   "outputs": [
    {
     "name": "stdout",
     "output_type": "stream",
     "text": [
      "None\n",
      "[70, 56, 45, 16]\n"
     ]
    }
   ],
   "source": [
    "print(list3.reverse())\n",
    "print(list3)\n",
    "#reverse the sequence"
   ]
  },
  {
   "cell_type": "code",
   "execution_count": 15,
   "metadata": {},
   "outputs": [
    {
     "name": "stdout",
     "output_type": "stream",
     "text": [
      "None\n",
      "[16, 45, 56, 70]\n"
     ]
    }
   ],
   "source": [
    "print(list3.sort())\n",
    "print(list3)\n",
    "#assending order"
   ]
  },
  {
   "cell_type": "code",
   "execution_count": null,
   "metadata": {},
   "outputs": [],
   "source": []
  }
 ],
 "metadata": {
  "kernelspec": {
   "display_name": "Python 3.9.12 ('base')",
   "language": "python",
   "name": "python3"
  },
  "language_info": {
   "codemirror_mode": {
    "name": "ipython",
    "version": 3
   },
   "file_extension": ".py",
   "mimetype": "text/x-python",
   "name": "python",
   "nbconvert_exporter": "python",
   "pygments_lexer": "ipython3",
   "version": "3.9.12"
  },
  "orig_nbformat": 4,
  "vscode": {
   "interpreter": {
    "hash": "dcf83fb7aecc4ec1d7d3dca26f762fbb0763345c4b34e2c927d4f400edb719a5"
   }
  }
 },
 "nbformat": 4,
 "nbformat_minor": 2
}
