{
 "cells": [
  {
   "cell_type": "markdown",
   "metadata": {},
   "source": [
    "Creating 5 classes and inheriting the properties"
   ]
  },
  {
   "cell_type": "code",
   "execution_count": 25,
   "metadata": {},
   "outputs": [
    {
     "name": "stdout",
     "output_type": "stream",
     "text": [
      "USN :  101\n",
      "Name :  Sagar Honnabindagi\n",
      "Subject 1 :  Python Programming\n",
      "Subject 2 :  Artificial Intelligence\n",
      "Subject 3 :  Machine Learning\n",
      "Subject 4 :  C Programming\n"
     ]
    }
   ],
   "source": [
    "# parent class\n",
    "\n",
    "class Engineer(object):\n",
    "\n",
    "    def __init__(self, usn, name):\n",
    "        self.usn = usn\n",
    "        self.name = name\n",
    "\n",
    "    def display(self):\n",
    "        print(\"USN : \",self.usn)\n",
    "        print(\"Name : \",self.name)\n",
    "\n",
    "class Subject1(Engineer):\n",
    "\n",
    "    def __init__(self, usn, name, sub1):\n",
    "        self.sub1 = sub1\n",
    "\n",
    "        Engineer.__init__(self, usn, name)\n",
    "\n",
    "    def display(self):\n",
    "        print(\"USN : \",self.usn)\n",
    "        print(\"Name : \",self.name)\n",
    "        print(\"Subject 1 : \",self.sub1)\n",
    "\n",
    "class Subject2(Subject1):\n",
    "\n",
    "    def __init__(self, usn, name, sub1, sub2):\n",
    "        self.sub2 = sub2\n",
    "\n",
    "        Subject1.__init__(self, usn, name, sub1)\n",
    "\n",
    "    def display(self):\n",
    "        print(\"USN : \",self.usn)\n",
    "        print(\"Name : \",self.name)\n",
    "        print(\"Subject 1 : \",self.sub1)\n",
    "        print(\"Subject 2 : \",self.sub2)\n",
    "\n",
    "class Subject3(Subject2):\n",
    "\n",
    "    def __init__(self, usn, name, sub1, sub2, sub3):\n",
    "        self.sub3 = sub3\n",
    "\n",
    "        Subject2.__init__(self, usn, name, sub1, sub2)\n",
    "\n",
    "    def display(self):\n",
    "        print(\"USN : \",self.usn)\n",
    "        print(\"Name : \",self.name)\n",
    "        print(\"Subject 1 : \",self.sub1)\n",
    "        print(\"Subject 2 : \",self.sub2)\n",
    "        print(\"Subject 3 : \",self.sub3)\n",
    "\n",
    "class Subject4(Subject3):\n",
    "\n",
    "    def __init__(self, usn, name, sub1, sub2, sub3, sub4):\n",
    "        self.sub4 = sub4\n",
    "\n",
    "        Subject3.__init__(self, usn, name, sub1, sub2, sub3)\n",
    "\n",
    "    def display(self):\n",
    "        print(\"USN : \",self.usn)\n",
    "        print(\"Name : \",self.name)\n",
    "        print(\"Subject 1 : \",self.sub1)\n",
    "        print(\"Subject 2 : \",self.sub2)\n",
    "        print(\"Subject 3 : \",self.sub3)\n",
    "        print(\"Subject 4 : \",self.sub4)\n",
    "\n",
    "a = Subject4(101,'Sagar Honnabindagi','Python Programming','Artificial Intelligence','Machine Learning','C Programming')\n",
    "a.display()\n"
   ]
  }
 ],
 "metadata": {
  "kernelspec": {
   "display_name": "Python 3.10.0 64-bit",
   "language": "python",
   "name": "python3"
  },
  "language_info": {
   "codemirror_mode": {
    "name": "ipython",
    "version": 3
   },
   "file_extension": ".py",
   "mimetype": "text/x-python",
   "name": "python",
   "nbconvert_exporter": "python",
   "pygments_lexer": "ipython3",
   "version": "3.10.0"
  },
  "orig_nbformat": 4,
  "vscode": {
   "interpreter": {
    "hash": "9b4d75ac280b6c7c3aa43866cb82dc88915409b55fec83a093dd0284cb58708e"
   }
  }
 },
 "nbformat": 4,
 "nbformat_minor": 2
}
