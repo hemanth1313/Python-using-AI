{
 "cells": [
  {
   "cell_type": "markdown",
   "metadata": {},
   "source": [
    "Cube Lambda Function"
   ]
  },
  {
   "cell_type": "code",
   "execution_count": 1,
   "metadata": {},
   "outputs": [
    {
     "name": "stdout",
     "output_type": "stream",
     "text": [
      "Cube of value is :  27\n"
     ]
    }
   ],
   "source": [
    "# return lambda\n",
    "def cube():\n",
    "    return lambda y: y*y*y\n",
    "\n",
    "# L1 will act as function name in place of lambda\n",
    "L1=cube()\n",
    "print(\"Cube of value is : \",L1(3))"
   ]
  },
  {
   "cell_type": "markdown",
   "metadata": {},
   "source": [
    "Area of Rectangle Lambda Function"
   ]
  },
  {
   "cell_type": "code",
   "execution_count": 6,
   "metadata": {},
   "outputs": [
    {
     "name": "stdout",
     "output_type": "stream",
     "text": [
      "Area of rectangle is :  6\n"
     ]
    }
   ],
   "source": [
    "# return lambda\n",
    "def area():\n",
    "    return lambda l,b: l * b\n",
    "\n",
    "# L1 will act as function name in place of lambda\n",
    "L1=area()\n",
    "print(\"Area of Rectangle is : \",L1(3,2))"
   ]
  },
  {
   "cell_type": "markdown",
   "metadata": {},
   "source": [
    "Area of Square Lambda Function"
   ]
  },
  {
   "cell_type": "code",
   "execution_count": null,
   "metadata": {},
   "outputs": [],
   "source": [
    "# return lambda\n",
    "def area():\n",
    "    return lambda a: a * a\n",
    "\n",
    "# L1 will act as function name in place of lambda\n",
    "L1=area()\n",
    "print(\"Area of Square is : \",L1(3))"
   ]
  },
  {
   "cell_type": "markdown",
   "metadata": {},
   "source": [
    "Circumference of Circle Lambda Function"
   ]
  },
  {
   "cell_type": "code",
   "execution_count": 8,
   "metadata": {},
   "outputs": [
    {
     "name": "stdout",
     "output_type": "stream",
     "text": [
      "Circumference of Circle is :  31.41592653589793\n"
     ]
    }
   ],
   "source": [
    "import math\n",
    "\n",
    "# return lambda\n",
    "def Circumference():\n",
    "    return lambda r: 2 * math.pi * r\n",
    "\n",
    "# L1 will act as function name in place of lambda\n",
    "L1=Circumference()\n",
    "print(\"Circumference of Circle is : \",L1(5))"
   ]
  },
  {
   "cell_type": "markdown",
   "metadata": {},
   "source": [
    "Area of Triangle Lambda Function"
   ]
  },
  {
   "cell_type": "code",
   "execution_count": 9,
   "metadata": {},
   "outputs": [
    {
     "name": "stdout",
     "output_type": "stream",
     "text": [
      "Area of Triangle is :  17.5\n"
     ]
    }
   ],
   "source": [
    "# return lambda\n",
    "def Circumference():\n",
    "    return lambda b,h: 0.5 * b * h\n",
    "\n",
    "# L1 will act as function name in place of lambda\n",
    "L1=Circumference()\n",
    "print(\"Area of Triangle is : \",L1(5,7))"
   ]
  }
 ],
 "metadata": {
  "kernelspec": {
   "display_name": "Python 3.10.0 64-bit",
   "language": "python",
   "name": "python3"
  },
  "language_info": {
   "codemirror_mode": {
    "name": "ipython",
    "version": 3
   },
   "file_extension": ".py",
   "mimetype": "text/x-python",
   "name": "python",
   "nbconvert_exporter": "python",
   "pygments_lexer": "ipython3",
   "version": "3.10.0"
  },
  "orig_nbformat": 4,
  "vscode": {
   "interpreter": {
    "hash": "9b4d75ac280b6c7c3aa43866cb82dc88915409b55fec83a093dd0284cb58708e"
   }
  }
 },
 "nbformat": 4,
 "nbformat_minor": 2
}
